{
 "cells": [
  {
   "cell_type": "code",
   "execution_count": 3,
   "id": "aae7db7a-6ca4-426d-ae91-6c00b1ba3229",
   "metadata": {},
   "outputs": [],
   "source": [
    "import pandas as pd"
   ]
  },
  {
   "cell_type": "code",
   "execution_count": 10,
   "id": "c55587b0-7ade-43e0-8509-f6c1e79d5be9",
   "metadata": {},
   "outputs": [
    {
     "name": "stderr",
     "output_type": "stream",
     "text": [
      "/Users/luandemello/Workspace/2024/Projeto/dados_M7/exploracao_dados_aula/venv/lib/python3.12/site-packages/openpyxl/styles/stylesheet.py:237: UserWarning: Workbook contains no default style, apply openpyxl's default\n",
      "  warn(\"Workbook contains no default style, apply openpyxl's default\")\n"
     ]
    },
    {
     "name": "stdout",
     "output_type": "stream",
     "text": [
      "Deu certo\n"
     ]
    }
   ],
   "source": [
    "df = pd.read_excel('Resultados Out Nov 2023.xlsx')\n",
    "#para csv\n",
    "df.to_csv('Resultados Out Nov 2023.csv', index=False)\n",
    "print(\"Deu certo\")"
   ]
  },
  {
   "cell_type": "code",
   "execution_count": null,
   "id": "c2260545-cd66-4993-a9fb-e6782ad406a1",
   "metadata": {},
   "outputs": [],
   "source": [
    "#limpeza dos dados para fundir as tabelas"
   ]
  },
  {
   "cell_type": "code",
   "execution_count": 11,
   "id": "9d3791c9-78e8-4708-aacf-5ae46fbd2e1b",
   "metadata": {},
   "outputs": [
    {
     "name": "stdout",
     "output_type": "stream",
     "text": [
      "Tabelas limpas e fundidas salvas como Falhas_geral.csv\n"
     ]
    }
   ],
   "source": [
    "#Resultados\n",
    "\n",
    "arquivo_csv1 = 'FALHAS_04_05_06_2024.csv'\n",
    "arquivo_csv2 = 'FALHAS_PREDICT.csv'\n",
    "\n",
    "df1 = pd.read_csv(arquivo_csv1)\n",
    "df2 = pd.read_csv(arquivo_csv2)\n",
    "\n",
    "df1 = df1.loc[:, ~df1.columns.str.contains('^Unnamed')]\n",
    "df2 = df2.loc[:, ~df2.columns.str.contains('^Unnamed')]\n",
    "\n",
    "\n",
    "df1 = df1.dropna(how='all')\n",
    "df2 = df2.dropna(how='all')\n",
    "\n",
    "df_fundido = pd.concat([df1, df2], ignore_index=True)\n",
    "\n",
    "arquivo_csv_fundido = 'Falhas_geral.csv'\n",
    "df_fundido.to_csv(arquivo_csv_fundido, index=False)\n",
    "#992724\n",
    "\n",
    "print(f\"Tabelas limpas e fundidas salvas como {arquivo_csv_fundido}\")"
   ]
  },
  {
   "cell_type": "code",
   "execution_count": 3,
   "id": "f8e61684-82e0-4a29-9199-03858c93ca3d",
   "metadata": {},
   "outputs": [
    {
     "name": "stdout",
     "output_type": "stream",
     "text": [
      "Tabelas limpas e fundidas salvas como1 resultado_geral.csv\n"
     ]
    }
   ],
   "source": [
    "import pandas as pd\n",
    "\n",
    "arquivos_csv = [\n",
    "    \"RESULTADOS_02_03_2024_full_teste.csv\",\n",
    "    \"RESULTADOS_04_06_2024_full_teste.csv\",\n",
    "    \"RESULTADOS_06_2023_07_2023_full_teste.csv\",\n",
    "    \"RESULTADOS_08_2023_09_2023_full_teste.csv\",\n",
    "    \"RESULTADOS_10_2023_11_2023_full_teste.csv\"\n",
    "]\n",
    "\n",
    "dfs = []\n",
    "\n",
    "# Lista de nomes de colunas desejados\n",
    "colunas_desejadas = [\"KNR\", \"NAME\", \"ID\", \"STATUS\", \"UNIT\", \"VALUE_ID\", \"VALUE\", \"DATA\"]\n",
    "\n",
    "for arquivo in arquivos_csv:\n",
    "    try:\n",
    "        df = pd.read_csv(arquivo, low_memory=False, compression='gzip')\n",
    "    except Exception as e:\n",
    "        print(f\"Erro ao abrir o arquivo {arquivo}: {e}\")\n",
    "        continue\n",
    "    \n",
    "    if df.empty:\n",
    "        print(f\"Warning: O arquivo {arquivo} está vazio ou não foi lido corretamente.\")\n",
    "        continue\n",
    "\n",
    "    # Renomear as colunas para garantir que todas tenham os mesmos nomes\n",
    "    df.columns = colunas_desejadas + df.columns[len(colunas_desejadas):].tolist()\n",
    "\n",
    "    dfs.append(df)\n",
    "\n",
    "if not dfs:\n",
    "    print(\"Warning: Nenhum DataFrame válido foi encontrado após a leitura e limpeza.\")\n",
    "else:\n",
    "    df_fundido = pd.concat(dfs, ignore_index=True)\n",
    "\n",
    "    if df_fundido.empty:\n",
    "        print(\"Warning: O DataFrame fundido está vazio.\")\n",
    "    else:\n",
    "        arquivo_csv_fundido = 'resultado_geral.csv'\n",
    "        df_fundido.to_csv(arquivo_csv_fundido, index=False)\n",
    "        print(f\"Tabelas limpas e fundidas salvas como1 {arquivo_csv_fundido}\")\n"
   ]
  },
  {
   "cell_type": "code",
   "execution_count": 21,
   "id": "69737105-881c-48cd-9eba-0ba797ff24aa",
   "metadata": {},
   "outputs": [
    {
     "name": "stdout",
     "output_type": "stream",
     "text": [
      "Tabela limpa salva como falhas_geral2.csv\n"
     ]
    }
   ],
   "source": [
    "arquivo_csv = 'falhas_geral1.csv'\n",
    "\n",
    "df = pd.read_csv(arquivo_csv, header=1, low_memory=False)\n",
    "\n",
    "if df.empty:\n",
    "    print(f\"Warning: O arquivo {arquivo_csv} está vazio ou não foi lido corretamente.\")\n",
    "else:\n",
    "    df = df.loc[:, ~df.columns.str.contains('^Unnamed')]\n",
    "\n",
    "    df = df.dropna()\n",
    "\n",
    "    if df.empty:\n",
    "        print(f\"Warning: O arquivo {arquivo_csv} ficou vazio após a limpeza.\")\n",
    "    else:\n",
    "        arquivo_csv_limpo = 'falhas_geral2.csv'\n",
    "        df.to_csv(arquivo_csv_limpo, index=False)\n",
    "        print(f\"Tabela limpa salva como {arquivo_csv_limpo}\")"
   ]
  },
  {
   "cell_type": "code",
   "execution_count": 9,
   "id": "d2327c4e-741e-4106-92be-e73facff78bc",
   "metadata": {},
   "outputs": [
    {
     "name": "stdout",
     "output_type": "stream",
     "text": [
      "<class 'pandas.core.frame.DataFrame'>\n",
      "RangeIndex: 11393178 entries, 0 to 11393177\n",
      "Data columns (total 9 columns):\n",
      " #   Column      Dtype \n",
      "---  ------      ----- \n",
      " 0   Unnamed: 0  int64 \n",
      " 1   KNR         object\n",
      " 2   NAME        object\n",
      " 3   ID          int64 \n",
      " 4   STATUS      int64 \n",
      " 5   UNIT        object\n",
      " 6   VALUE_ID    object\n",
      " 7   VALUE       object\n",
      " 8   DATA        object\n",
      "dtypes: int64(3), object(6)\n",
      "memory usage: 782.3+ MB\n",
      "haha\n"
     ]
    }
   ],
   "source": [
    "df = pd.read_csv(\"RESULTADOS_08_2023_09_2023_full_teste.csv\", low_memory=False,compression='gzip')\n",
    "df.info()\n",
    "print(\"haha\")"
   ]
  }
 ],
 "metadata": {
  "kernelspec": {
   "display_name": "Python 3 (ipykernel)",
   "language": "python",
   "name": "python3"
  },
  "language_info": {
   "codemirror_mode": {
    "name": "ipython",
    "version": 3
   },
   "file_extension": ".py",
   "mimetype": "text/x-python",
   "name": "python",
   "nbconvert_exporter": "python",
   "pygments_lexer": "ipython3",
   "version": "3.12.0"
  }
 },
 "nbformat": 4,
 "nbformat_minor": 5
}
